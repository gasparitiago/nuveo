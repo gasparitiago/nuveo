{
  "nbformat": 4,
  "nbformat_minor": 0,
  "metadata": {
    "colab": {
      "name": "SMS_PrecisionRecall.ipynb",
      "provenance": [],
      "collapsed_sections": []
    },
    "kernelspec": {
      "name": "python3",
      "display_name": "Python 3"
    },
    "language_info": {
      "name": "python"
    }
  },
  "cells": [
    {
      "cell_type": "code",
      "metadata": {
        "colab": {
          "base_uri": "https://localhost:8080/"
        },
        "id": "J5Xa16ulfx2z",
        "outputId": "adced1cb-1a12-49b1-aabe-a4254f7a25ba"
      },
      "source": [
        "!gdown --id 16QHXsGdLsh81ALNFvMkeBU6LyTEXbhmE\n",
        "!unzip -q '/content/02-SMSSpamDetection.zip'"
      ],
      "execution_count": 1,
      "outputs": [
        {
          "output_type": "stream",
          "text": [
            "Downloading...\n",
            "From: https://drive.google.com/uc?id=16QHXsGdLsh81ALNFvMkeBU6LyTEXbhmE\n",
            "To: /content/02-SMSSpamDetection.zip\n",
            "\r  0% 0.00/907k [00:00<?, ?B/s]\r100% 907k/907k [00:00<00:00, 14.2MB/s]\n",
            "replace 02-SMSSpamDetection/Model/sms_model_v1.pkl? [y]es, [n]o, [A]ll, [N]one, [r]ename: A\n"
          ],
          "name": "stdout"
        }
      ]
    },
    {
      "cell_type": "code",
      "metadata": {
        "colab": {
          "base_uri": "https://localhost:8080/"
        },
        "id": "9JA2Z0pKipI_",
        "outputId": "fae7cbd2-a191-40a3-ca26-f4868e2edcd9"
      },
      "source": [
        "import pickle\n",
        "sms_model = pickle.load(open(\"/content/02-SMSSpamDetection/Model/sms_model_v1.pkl\", \"rb\"))"
      ],
      "execution_count": 2,
      "outputs": [
        {
          "output_type": "stream",
          "text": [
            "/usr/local/lib/python3.7/dist-packages/sklearn/base.py:318: UserWarning: Trying to unpickle estimator TfidfTransformer from version 0.24.1 when using version 0.22.2.post1. This might lead to breaking code or invalid results. Use at your own risk.\n",
            "  UserWarning)\n",
            "/usr/local/lib/python3.7/dist-packages/sklearn/base.py:318: UserWarning: Trying to unpickle estimator TfidfVectorizer from version 0.24.1 when using version 0.22.2.post1. This might lead to breaking code or invalid results. Use at your own risk.\n",
            "  UserWarning)\n",
            "/usr/local/lib/python3.7/dist-packages/sklearn/base.py:318: UserWarning: Trying to unpickle estimator DecisionTreeClassifier from version 0.24.1 when using version 0.22.2.post1. This might lead to breaking code or invalid results. Use at your own risk.\n",
            "  UserWarning)\n",
            "/usr/local/lib/python3.7/dist-packages/sklearn/base.py:318: UserWarning: Trying to unpickle estimator RandomForestClassifier from version 0.24.1 when using version 0.22.2.post1. This might lead to breaking code or invalid results. Use at your own risk.\n",
            "  UserWarning)\n",
            "/usr/local/lib/python3.7/dist-packages/sklearn/base.py:318: UserWarning: Trying to unpickle estimator Pipeline from version 0.24.1 when using version 0.22.2.post1. This might lead to breaking code or invalid results. Use at your own risk.\n",
            "  UserWarning)\n"
          ],
          "name": "stderr"
        }
      ]
    },
    {
      "cell_type": "code",
      "metadata": {
        "colab": {
          "base_uri": "https://localhost:8080/"
        },
        "id": "gSttrHY3jJWm",
        "outputId": "a21fbe87-ce6c-4f4b-871a-29640f729ee5"
      },
      "source": [
        "import pandas as pd\n",
        "\n",
        "val_file = '/content/02-SMSSpamDetection/TrainingSet/sms-hamspam-val.csv'\n",
        "\n",
        "df = pd.read_csv(val_file,names=['label', 'message'], delimiter='\\t')\n",
        "print(df)"
      ],
      "execution_count": 3,
      "outputs": [
        {
          "output_type": "stream",
          "text": [
            "    label                                            message\n",
            "0     ham  How do friends help us in problems? They give ...\n",
            "1    spam  SIX chances to win CASH! From 100 to 20,000 po...\n",
            "2    spam  Free entry in 2 a weekly comp for a chance to ...\n",
            "3     ham                       We can make a baby in yo tho\n",
            "4     ham                Just haven't decided where yet eh ?\n",
            "..    ...                                                ...\n",
            "940   ham  Why must we sit around and wait for summer day...\n",
            "941   ham                    What type of stuff do you sing?\n",
            "942   ham                                                 Ok\n",
            "943   ham  U ned to convince him tht its not possible wit...\n",
            "944   ham             Wake me up at  &lt;#&gt;  am morning:)\n",
            "\n",
            "[945 rows x 2 columns]\n"
          ],
          "name": "stdout"
        }
      ]
    },
    {
      "cell_type": "code",
      "metadata": {
        "colab": {
          "base_uri": "https://localhost:8080/"
        },
        "id": "8TUgb1mok93K",
        "outputId": "1245bf12-e456-420f-ff89-cb96102fe5d3"
      },
      "source": [
        "y_val = df.label.map(dict(spam=1, ham=0))\n",
        "x_val = df['message']\n",
        "print(y_val)\n",
        "print(x_val)"
      ],
      "execution_count": 4,
      "outputs": [
        {
          "output_type": "stream",
          "text": [
            "0      0\n",
            "1      1\n",
            "2      1\n",
            "3      0\n",
            "4      0\n",
            "      ..\n",
            "940    0\n",
            "941    0\n",
            "942    0\n",
            "943    0\n",
            "944    0\n",
            "Name: label, Length: 945, dtype: int64\n",
            "0      How do friends help us in problems? They give ...\n",
            "1      SIX chances to win CASH! From 100 to 20,000 po...\n",
            "2      Free entry in 2 a weekly comp for a chance to ...\n",
            "3                           We can make a baby in yo tho\n",
            "4                    Just haven't decided where yet eh ?\n",
            "                             ...                        \n",
            "940    Why must we sit around and wait for summer day...\n",
            "941                      What type of stuff do you sing?\n",
            "942                                                   Ok\n",
            "943    U ned to convince him tht its not possible wit...\n",
            "944               Wake me up at  &lt;#&gt;  am morning:)\n",
            "Name: message, Length: 945, dtype: object\n"
          ],
          "name": "stdout"
        }
      ]
    },
    {
      "cell_type": "code",
      "metadata": {
        "colab": {
          "base_uri": "https://localhost:8080/"
        },
        "id": "vxt6aLVrlto2",
        "outputId": "5091dd46-6fcf-4802-f198-a336e635d9fd"
      },
      "source": [
        "import numpy as np\n",
        "y_pred = sms_model.predict(x_val.values)\n",
        "y_pred = np.where(y_pred == 'spam', 1, 0)\n",
        "print(y_pred)"
      ],
      "execution_count": 5,
      "outputs": [
        {
          "output_type": "stream",
          "text": [
            "[0 1 1 0 0 0 0 0 0 0 0 0 0 0 1 0 1 0 0 0 1 1 0 0 0 0 0 1 0 0 0 1 0 0 0 0 0\n",
            " 0 0 0 0 0 0 0 0 0 0 0 0 1 0 0 0 0 0 0 0 0 0 0 0 0 0 0 0 0 0 0 0 0 0 0 1 0\n",
            " 0 1 0 0 0 0 0 0 0 0 0 0 0 0 1 0 0 1 0 0 0 1 0 0 0 0 0 0 0 1 0 1 0 0 0 0 0\n",
            " 0 1 0 0 0 1 0 0 1 0 0 0 0 0 0 0 0 1 0 0 0 0 0 0 1 1 0 0 0 0 0 0 1 0 0 0 0\n",
            " 0 0 0 0 0 0 0 0 0 0 0 0 0 0 0 0 0 0 0 0 0 1 0 0 0 0 0 0 0 0 0 0 0 0 0 0 1\n",
            " 0 0 0 0 0 0 0 0 1 0 0 0 0 0 0 0 0 0 1 1 0 0 0 0 0 0 0 0 0 1 0 0 1 1 0 0 0\n",
            " 0 0 0 0 0 0 0 0 0 0 0 1 0 0 0 0 0 0 0 0 0 0 0 0 0 1 0 0 1 0 0 1 0 0 0 1 0\n",
            " 1 0 0 0 1 0 0 0 0 0 0 0 0 0 0 1 0 0 0 0 0 0 0 0 1 0 0 0 0 0 1 0 0 0 0 0 0\n",
            " 0 0 0 0 0 0 0 0 0 1 0 0 0 0 0 1 0 0 0 0 0 0 0 0 0 0 0 0 0 0 1 0 0 0 0 0 0\n",
            " 1 0 0 1 0 0 0 0 0 0 0 0 0 1 1 0 0 0 0 1 0 0 0 0 0 1 0 0 0 0 0 0 0 0 1 0 0\n",
            " 0 0 0 1 1 1 0 1 0 0 0 0 0 0 0 0 0 0 0 1 0 0 0 0 0 1 0 1 1 0 0 0 0 0 0 0 1\n",
            " 0 0 0 1 0 0 0 1 0 0 1 0 0 0 0 0 0 0 1 0 0 0 0 1 0 1 0 0 0 0 0 0 0 0 0 0 0\n",
            " 0 0 0 0 0 0 1 0 0 0 0 0 1 0 0 0 0 0 0 1 0 0 0 0 0 0 0 0 1 0 0 0 0 0 0 0 0\n",
            " 0 0 0 0 0 0 0 0 1 0 0 0 0 0 0 0 0 1 0 0 1 1 0 0 0 0 0 0 1 1 0 0 1 0 1 0 0\n",
            " 0 0 0 0 0 0 0 0 0 0 0 0 0 0 0 0 1 0 0 0 0 0 1 0 0 0 0 0 1 0 0 0 0 0 0 0 0\n",
            " 0 0 0 0 0 0 0 1 0 0 0 0 0 0 0 0 1 1 0 0 1 0 0 0 0 0 0 0 0 0 1 0 0 0 0 0 0\n",
            " 1 0 0 0 0 0 0 0 0 0 0 1 0 0 0 0 0 0 1 1 0 0 0 0 0 0 0 0 0 1 1 0 0 0 0 0 0\n",
            " 0 0 1 0 0 0 0 0 0 0 0 0 0 0 1 0 0 0 0 0 0 0 0 1 0 0 0 0 0 0 0 0 0 0 1 0 0\n",
            " 0 0 0 1 0 1 1 0 0 0 0 0 0 0 0 0 1 0 0 0 0 0 1 0 0 0 0 0 0 0 0 0 0 0 0 0 0\n",
            " 0 0 0 1 1 0 0 0 0 0 1 1 1 1 0 0 0 0 0 1 0 0 0 0 0 1 0 0 0 1 0 0 0 1 0 0 0\n",
            " 0 0 0 0 0 0 0 0 0 0 1 0 0 0 0 1 0 0 0 0 0 0 0 0 0 0 0 0 0 0 1 0 0 0 0 0 0\n",
            " 0 0 0 0 0 0 0 1 0 0 0 0 0 1 0 0 0 0 0 0 1 0 0 0 0 0 0 0 0 0 0 0 0 0 0 0 1\n",
            " 1 0 0 0 0 0 0 0 0 0 0 0 0 1 0 0 1 0 0 0 0 0 0 0 0 0 0 0 0 0 0 0 1 0 0 0 0\n",
            " 0 0 1 0 0 0 0 0 0 0 0 0 1 0 0 0 0 0 0 0 0 0 0 0 0 0 1 0 0 0 0 1 0 1 0 0 0\n",
            " 0 0 0 0 0 0 0 0 0 1 0 1 0 0 0 0 0 0 0 0 0 0 0 0 0 0 0 0 0 0 1 0 0 1 0 0 0\n",
            " 0 0 0 0 0 0 0 0 0 1 0 1 1 0 0 0 0 0 0 0]\n"
          ],
          "name": "stdout"
        }
      ]
    },
    {
      "cell_type": "code",
      "metadata": {
        "colab": {
          "base_uri": "https://localhost:8080/"
        },
        "id": "hGpGoOZCmC4P",
        "outputId": "16d75ca2-fb0f-424e-93b0-8b5eded85fae"
      },
      "source": [
        "from sklearn.metrics import roc_curve, precision_recall_curve, auc, make_scorer, recall_score, accuracy_score, precision_score, confusion_matrix\n",
        "\n",
        "print(pd.DataFrame(confusion_matrix(y_val, y_pred),\n",
        "                   columns=['pred_neg', 'pred_pos'], index=['neg', 'pos']))"
      ],
      "execution_count": 6,
      "outputs": [
        {
          "output_type": "stream",
          "text": [
            "     pred_neg  pred_pos\n",
            "neg       806         5\n",
            "pos         5       129\n"
          ],
          "name": "stdout"
        }
      ]
    },
    {
      "cell_type": "markdown",
      "metadata": {
        "id": "tgLUlCoAmNSI"
      },
      "source": [
        "As it can seen in the validation confusion matrix, there are some false positive and false negative results when used the threshold in 0.5 (max of spam/ham prediction).\n",
        "\n",
        "In order to create better thresholds, I'm using the precision recall as scores."
      ]
    },
    {
      "cell_type": "code",
      "metadata": {
        "colab": {
          "base_uri": "https://localhost:8080/"
        },
        "id": "itDL_YpSmlQM",
        "outputId": "b6d956ad-7620-4a53-c510-9d8513fb4c40"
      },
      "source": [
        "y_scores = sms_model.predict_proba(x_val)[:, 1]\n",
        "print(y_scores)"
      ],
      "execution_count": 7,
      "outputs": [
        {
          "output_type": "stream",
          "text": [
            "[0.09 0.97 0.99 0.05 0.03 0.   0.04 0.02 0.01 0.05 0.   0.01 0.02 0.\n",
            " 0.89 0.04 0.96 0.03 0.03 0.14 1.   0.96 0.01 0.22 0.1  0.23 0.49 0.99\n",
            " 0.08 0.03 0.   0.79 0.14 0.01 0.01 0.32 0.07 0.07 0.01 0.16 0.04 0.03\n",
            " 0.03 0.03 0.02 0.03 0.   0.04 0.01 1.   0.03 0.02 0.05 0.07 0.06 0.01\n",
            " 0.16 0.03 0.   0.   0.02 0.02 0.23 0.02 0.34 0.03 0.02 0.08 0.   0.05\n",
            " 0.06 0.07 0.92 0.06 0.02 0.98 0.03 0.04 0.02 0.01 0.1  0.02 0.1  0.01\n",
            " 0.   0.31 0.03 0.06 0.99 0.03 0.   0.99 0.03 0.07 0.   0.98 0.02 0.04\n",
            " 0.06 0.04 0.02 0.18 0.02 1.   0.   0.9  0.12 0.02 0.03 0.04 0.01 0.21\n",
            " 0.98 0.   0.04 0.   0.91 0.03 0.   1.   0.02 0.06 0.01 0.01 0.01 0.05\n",
            " 0.05 0.02 0.95 0.15 0.1  0.01 0.   0.17 0.   0.82 0.85 0.02 0.07 0.03\n",
            " 0.   0.05 0.25 0.95 0.   0.05 0.1  0.14 0.03 0.38 0.01 0.03 0.02 0.13\n",
            " 0.01 0.19 0.03 0.17 0.04 0.03 0.01 0.   0.03 0.04 0.   0.   0.   0.11\n",
            " 0.11 0.96 0.01 0.11 0.07 0.02 0.21 0.   0.03 0.02 0.14 0.   0.19 0.09\n",
            " 0.06 0.05 0.86 0.19 0.03 0.03 0.08 0.03 0.14 0.   0.23 0.72 0.13 0.01\n",
            " 0.23 0.06 0.15 0.   0.21 0.03 0.   1.   0.96 0.03 0.04 0.01 0.09 0.\n",
            " 0.05 0.02 0.06 0.02 0.96 0.02 0.   0.94 0.99 0.   0.31 0.07 0.06 0.03\n",
            " 0.   0.01 0.12 0.03 0.04 0.   0.03 0.01 0.04 0.8  0.   0.11 0.05 0.05\n",
            " 0.   0.03 0.   0.03 0.09 0.   0.09 0.01 0.   0.93 0.12 0.3  0.97 0.03\n",
            " 0.08 0.97 0.03 0.05 0.01 1.   0.03 0.99 0.02 0.   0.21 0.98 0.07 0.15\n",
            " 0.   0.05 0.   0.01 0.01 0.17 0.06 0.04 0.97 0.3  0.   0.23 0.01 0.07\n",
            " 0.01 0.07 0.   0.91 0.02 0.23 0.02 0.1  0.05 0.93 0.02 0.   0.24 0.07\n",
            " 0.08 0.01 0.   0.02 0.07 0.13 0.01 0.   0.02 0.01 0.01 0.92 0.   0.\n",
            " 0.02 0.18 0.29 0.54 0.   0.02 0.13 0.35 0.03 0.06 0.21 0.02 0.17 0.03\n",
            " 0.2  0.01 0.03 0.21 0.97 0.   0.11 0.02 0.05 0.   0.13 0.97 0.01 0.01\n",
            " 0.72 0.02 0.   0.01 0.02 0.02 0.03 0.01 0.   0.3  0.96 0.96 0.03 0.03\n",
            " 0.02 0.03 0.98 0.05 0.03 0.29 0.03 0.   0.97 0.03 0.01 0.   0.   0.01\n",
            " 0.03 0.4  0.05 0.87 0.01 0.49 0.   0.   0.02 0.97 1.   0.94 0.03 0.96\n",
            " 0.04 0.04 0.06 0.02 0.11 0.42 0.09 0.05 0.09 0.07 0.03 0.91 0.04 0.03\n",
            " 0.04 0.03 0.16 0.96 0.13 0.97 0.84 0.19 0.04 0.01 0.03 0.1  0.03 0.12\n",
            " 0.95 0.06 0.01 0.12 0.77 0.32 0.01 0.01 0.95 0.01 0.1  0.92 0.2  0.09\n",
            " 0.07 0.02 0.   0.02 0.1  0.98 0.   0.03 0.02 0.12 0.94 0.02 1.   0.19\n",
            " 0.   0.01 0.1  0.35 0.25 0.03 0.09 0.   0.02 0.23 0.01 0.26 0.   0.06\n",
            " 0.08 0.08 0.8  0.   0.1  0.12 0.   0.01 0.97 0.07 0.04 0.31 0.03 0.05\n",
            " 0.   0.9  0.03 0.01 0.01 0.01 0.01 0.03 0.03 0.1  0.95 0.01 0.03 0.02\n",
            " 0.03 0.06 0.02 0.   0.12 0.04 0.04 0.02 0.06 0.02 0.   0.   0.   0.9\n",
            " 0.05 0.08 0.02 0.04 0.01 0.02 0.03 0.03 0.55 0.05 0.01 0.98 1.   0.01\n",
            " 0.21 0.01 0.01 0.14 0.25 0.98 0.57 0.13 0.01 0.93 0.01 1.   0.02 0.\n",
            " 0.06 0.   0.01 0.06 0.01 0.05 0.08 0.03 0.04 0.05 0.02 0.01 0.42 0.02\n",
            " 0.   0.02 0.9  0.   0.   0.01 0.11 0.13 0.8  0.02 0.03 0.04 0.08 0.14\n",
            " 0.96 0.01 0.01 0.   0.02 0.04 0.22 0.05 0.03 0.04 0.02 0.07 0.06 0.03\n",
            " 0.06 0.22 0.95 0.09 0.06 0.02 0.02 0.01 0.   0.07 0.08 0.98 0.99 0.07\n",
            " 0.06 1.   0.17 0.08 0.02 0.06 0.17 0.02 0.   0.05 0.   0.8  0.03 0.05\n",
            " 0.02 0.27 0.03 0.13 0.94 0.   0.03 0.08 0.04 0.05 0.07 0.09 0.02 0.\n",
            " 0.08 0.99 0.05 0.1  0.03 0.02 0.01 0.03 1.   0.96 0.02 0.02 0.15 0.02\n",
            " 0.01 0.14 0.   0.24 0.02 1.   0.88 0.31 0.02 0.06 0.07 0.02 0.   0.03\n",
            " 0.09 0.99 0.07 0.02 0.07 0.02 0.12 0.04 0.   0.   0.   0.13 0.03 0.54\n",
            " 0.04 0.   0.1  0.   0.01 0.05 0.   0.02 0.91 0.03 0.02 0.06 0.1  0.\n",
            " 0.02 0.01 0.1  0.05 0.12 0.98 0.12 0.06 0.07 0.01 0.04 1.   0.14 1.\n",
            " 1.   0.02 0.07 0.06 0.07 0.1  0.03 0.04 0.19 0.28 0.92 0.04 0.04 0.12\n",
            " 0.08 0.08 0.97 0.02 0.42 0.01 0.14 0.03 0.04 0.01 0.03 0.11 0.03 0.09\n",
            " 0.   0.06 0.01 0.06 0.08 0.03 0.61 0.89 0.   0.24 0.11 0.02 0.05 0.8\n",
            " 0.99 0.75 0.95 0.02 0.   0.03 0.01 0.2  0.98 0.02 0.   0.2  0.19 0.\n",
            " 0.98 0.   0.23 0.18 0.85 0.   0.19 0.01 0.98 0.16 0.   0.   0.1  0.25\n",
            " 0.   0.07 0.02 0.   0.04 0.03 0.08 0.   0.96 0.   0.06 0.01 0.04 0.96\n",
            " 0.01 0.05 0.   0.01 0.04 0.04 0.03 0.02 0.15 0.12 0.   0.2  0.03 0.\n",
            " 0.97 0.01 0.42 0.02 0.49 0.02 0.02 0.05 0.12 0.07 0.01 0.04 0.02 0.01\n",
            " 1.   0.05 0.02 0.02 0.04 0.02 1.   0.04 0.33 0.01 0.24 0.08 0.   0.95\n",
            " 0.01 0.15 0.04 0.01 0.03 0.04 0.   0.15 0.04 0.11 0.02 0.   0.02 0.24\n",
            " 0.14 1.   0.9  0.01 0.   0.22 0.02 0.01 0.02 0.03 0.01 0.12 0.01 0.07\n",
            " 0.01 0.96 0.   0.02 0.94 0.02 0.01 0.   0.03 0.02 0.05 0.1  0.22 0.\n",
            " 0.01 0.03 0.11 0.16 0.03 0.01 0.95 0.13 0.2  0.1  0.14 0.07 0.08 0.88\n",
            " 0.03 0.21 0.02 0.01 0.   0.17 0.02 0.12 0.05 0.89 0.08 0.31 0.03 0.\n",
            " 0.   0.03 0.02 0.02 0.06 0.01 0.15 0.   0.05 1.   0.05 0.01 0.   0.04\n",
            " 0.93 0.09 0.93 0.01 0.13 0.02 0.09 0.   0.   0.18 0.07 0.02 0.03 0.01\n",
            " 0.   0.81 0.03 0.98 0.07 0.02 0.07 0.02 0.   0.   0.01 0.   0.01 0.\n",
            " 0.   0.07 0.   0.02 0.03 0.07 0.03 0.01 0.93 0.   0.05 0.96 0.03 0.11\n",
            " 0.01 0.06 0.29 0.02 0.02 0.05 0.04 0.04 0.4  0.07 0.97 0.01 0.99 0.6\n",
            " 0.03 0.01 0.06 0.04 0.   0.03 0.  ]\n"
          ],
          "name": "stdout"
        }
      ]
    },
    {
      "cell_type": "code",
      "metadata": {
        "id": "7SyG4ldpiqzP"
      },
      "source": [
        "def adjusted_classes(y_scores, t):\n",
        "    return [1 if y >= t else 0 for y in y_scores]"
      ],
      "execution_count": 8,
      "outputs": []
    },
    {
      "cell_type": "code",
      "metadata": {
        "id": "8__RBdjmmXvj"
      },
      "source": [
        "p, r, thresholds = precision_recall_curve(y_val, y_scores)"
      ],
      "execution_count": 9,
      "outputs": []
    },
    {
      "cell_type": "code",
      "metadata": {
        "id": "OLmNRA6No0Er"
      },
      "source": [
        "import matplotlib.pyplot as plt\n",
        "\n",
        "def plot_precision_recall_vs_threshold(precisions, recalls, thresholds):\n",
        "    \"\"\"\n",
        "    Modified from:\n",
        "    Hands-On Machine learning with Scikit-Learn\n",
        "    and TensorFlow; p.89\n",
        "    \"\"\"\n",
        "    plt.figure(figsize=(8, 8))\n",
        "    plt.title(\"Precision and Recall Scores as a function of the decision threshold\")\n",
        "    plt.plot(thresholds, precisions[:-1], \"b--\", label=\"Precision\")\n",
        "    plt.plot(thresholds, recalls[:-1], \"g-\", label=\"Recall\")\n",
        "    plt.ylabel(\"Score\")\n",
        "    plt.xlabel(\"Decision Threshold\")\n",
        "    plt.legend(loc='best')"
      ],
      "execution_count": 10,
      "outputs": []
    },
    {
      "cell_type": "code",
      "metadata": {
        "colab": {
          "base_uri": "https://localhost:8080/",
          "height": 513
        },
        "id": "NNUQxcq2qLAb",
        "outputId": "294d8a6c-5771-416c-8f5a-b771ba635c25"
      },
      "source": [
        "plot_precision_recall_vs_threshold(p, r, thresholds)"
      ],
      "execution_count": 11,
      "outputs": [
        {
          "output_type": "display_data",
          "data": {
            "image/png": "[encoded data removed]",
            "text/plain": [
              "<Figure size 576x576 with 1 Axes>"
            ]
          },
          "metadata": {
            "tags": [],
            "needs_background": "light"
          }
        }
      ]
    },
    {
      "cell_type": "markdown",
      "metadata": {
        "id": "v48nFuAvr_7A"
      },
      "source": [
        "Evaluating this precision recall curve, it's possible to identify the decision threshold to zero the false positive and false negatives.\n",
        "\n",
        "The thresholds are: 0.7 to avoid false negatives and 0.95 to avoid false positives, let's test them.\n",
        "\n",
        "The values were rounded in order to provide a room for failing (the thresholds are a little bit higher to prevent errors)."
      ]
    },
    {
      "cell_type": "code",
      "metadata": {
        "colab": {
          "base_uri": "https://localhost:8080/"
        },
        "id": "oIioWVkbqlMh",
        "outputId": "59b02ad7-4428-42b9-999d-4ac804190296"
      },
      "source": [
        "#Avoiding false negatives\n",
        "\n",
        "y_pred_adj = adjusted_classes(y_scores, 0.7)\n",
        "print(pd.DataFrame(confusion_matrix(y_val, y_pred_adj),\n",
        "                    columns=['pred_neg', 'pred_pos'], \n",
        "                    index=['neg', 'pos']))"
      ],
      "execution_count": 12,
      "outputs": [
        {
          "output_type": "stream",
          "text": [
            "     pred_neg  pred_pos\n",
            "neg       811         0\n",
            "pos         6       128\n"
          ],
          "name": "stdout"
        }
      ]
    },
    {
      "cell_type": "code",
      "metadata": {
        "colab": {
          "base_uri": "https://localhost:8080/"
        },
        "id": "EmK7FlMusUxq",
        "outputId": "15dcc936-4540-4172-f2cd-488971c88f96"
      },
      "source": [
        "y_pred_adj = adjusted_classes(y_scores, 0.05)\n",
        "print(pd.DataFrame(confusion_matrix(y_val, y_pred_adj),\n",
        "                    columns=['pred_neg', 'pred_pos'], \n",
        "                    index=['neg', 'pos']))"
      ],
      "execution_count": 13,
      "outputs": [
        {
          "output_type": "stream",
          "text": [
            "     pred_neg  pred_pos\n",
            "neg       494       317\n",
            "pos         0       134\n"
          ],
          "name": "stdout"
        }
      ]
    },
    {
      "cell_type": "markdown",
      "metadata": {
        "id": "x_Dfi46VtBmB"
      },
      "source": [
        "## Getting these values using the validation set we can go back to our SpamDetector class and use these values that we achieve as configurable parameters of the class."
      ]
    }
  ]
}